{
 "cells": [
  {
   "cell_type": "code",
   "execution_count": 1,
   "metadata": {
    "execution": {
     "iopub.execute_input": "2024-12-21T15:54:11.073797Z",
     "iopub.status.busy": "2024-12-21T15:54:11.073509Z",
     "iopub.status.idle": "2024-12-21T15:54:37.674060Z",
     "shell.execute_reply": "2024-12-21T15:54:37.673092Z",
     "shell.execute_reply.started": "2024-12-21T15:54:11.073772Z"
    },
    "trusted": true
   },
   "outputs": [
    {
     "name": "stdout",
     "output_type": "stream",
     "text": [
      "  Installing build dependencies ... \u001b[?25l\u001b[?25hdone\n",
      "  Getting requirements to build wheel ... \u001b[?25l\u001b[?25hdone\n",
      "  Preparing metadata (pyproject.toml) ... \u001b[?25l\u001b[?25hdone\n",
      "  Building wheel for magent2 (pyproject.toml) ... \u001b[?25l\u001b[?25hdone\n"
     ]
    }
   ],
   "source": [
    "# !pip install -q git+https://github.com/Farama-Foundation/MAgent2"
   ]
  },
  {
   "cell_type": "code",
   "execution_count": 2,
   "metadata": {
    "execution": {
     "iopub.execute_input": "2024-12-21T15:54:37.676049Z",
     "iopub.status.busy": "2024-12-21T15:54:37.675740Z",
     "iopub.status.idle": "2024-12-21T15:54:41.645740Z",
     "shell.execute_reply": "2024-12-21T15:54:41.645012Z",
     "shell.execute_reply.started": "2024-12-21T15:54:37.676023Z"
    },
    "trusted": true
   },
   "outputs": [],
   "source": [
    "import torch\n",
    "import torch.optim as optim\n",
    "import torch.nn.functional as F\n",
    "import numpy as np\n",
    "from collections import deque\n",
    "import random\n",
    "import torch.nn as nn\n",
    "from magent2.environments import battle_v4\n",
    "from torch.utils.data import Dataset, DataLoader\n",
    "from time import time "
   ]
  },
  {
   "cell_type": "code",
   "execution_count": 3,
   "metadata": {
    "execution": {
     "iopub.execute_input": "2024-12-21T15:54:41.648022Z",
     "iopub.status.busy": "2024-12-21T15:54:41.647531Z",
     "iopub.status.idle": "2024-12-21T15:54:41.655055Z",
     "shell.execute_reply": "2024-12-21T15:54:41.654098Z",
     "shell.execute_reply.started": "2024-12-21T15:54:41.647982Z"
    },
    "trusted": true
   },
   "outputs": [
    {
     "name": "stderr",
     "output_type": "stream",
     "text": [
      "/usr/local/lib/python3.10/dist-packages/ipykernel/ipkernel.py:283: DeprecationWarning: `should_run_async` will not call `transform_cell` automatically in the future. Please pass the result to `transformed_cell` argument and any exception that happen during thetransform in `preprocessing_exc_tuple` in IPython 7.17 and above.\n",
      "  and should_run_async(code)\n"
     ]
    }
   ],
   "source": [
    "\n",
    "class PretrainedQNetwork(nn.Module):\n",
    "    def __init__(self, observation_shape, action_shape):\n",
    "        super().__init__()\n",
    "        self.cnn = nn.Sequential(\n",
    "            nn.Conv2d(observation_shape[-1], observation_shape[-1], 3),\n",
    "            nn.ReLU(),\n",
    "            nn.Conv2d(observation_shape[-1], observation_shape[-1], 3),\n",
    "            nn.ReLU(),\n",
    "        )\n",
    "        dummy_input = torch.randn(observation_shape).permute(2, 0, 1)\n",
    "        dummy_output = self.cnn(dummy_input)\n",
    "        flatten_dim = dummy_output.view(-1).shape[0]\n",
    "        self.network = nn.Sequential(\n",
    "            nn.Linear(flatten_dim, 120),\n",
    "            nn.ReLU(),\n",
    "            nn.Linear(120, 84),\n",
    "            nn.ReLU(),\n",
    "            nn.Linear(84, action_shape),\n",
    "        )\n",
    "       # self.apply(kaiming_init)\n",
    "\n",
    "    def forward(self, x):\n",
    "        assert len(x.shape) >= 3\n",
    "        x = self.cnn(x)\n",
    "        if len(x.shape) == 3:\n",
    "            batchsize = 1\n",
    "        else:\n",
    "            batchsize = x.shape[0]\n",
    "        x = x.reshape(batchsize, -1)\n",
    "        return self.network(x)"
   ]
  },
  {
   "cell_type": "code",
   "execution_count": 4,
   "metadata": {
    "execution": {
     "iopub.execute_input": "2024-12-21T15:54:41.657120Z",
     "iopub.status.busy": "2024-12-21T15:54:41.656836Z",
     "iopub.status.idle": "2024-12-21T15:54:41.675881Z",
     "shell.execute_reply": "2024-12-21T15:54:41.674839Z",
     "shell.execute_reply.started": "2024-12-21T15:54:41.657097Z"
    },
    "trusted": true
   },
   "outputs": [],
   "source": [
    "class Final_QNets(nn.Module):\n",
    "    def __init__(self, observation_shape, action_shape):\n",
    "        super().__init__()\n",
    "        self.cnn = nn.Sequential(\n",
    "            nn.Conv2d(observation_shape[-1], observation_shape[-1], 3),\n",
    "            nn.ReLU(),\n",
    "            nn.Conv2d(observation_shape[-1], observation_shape[-1], 3),\n",
    "            nn.ReLU(),\n",
    "        )\n",
    "        dummy_input = torch.randn(observation_shape).permute(2, 0, 1)\n",
    "        dummy_output = self.cnn(dummy_input)\n",
    "        flatten_dim = dummy_output.view(-1).shape[0]\n",
    "        self.network = nn.Sequential(\n",
    "            nn.Linear(flatten_dim, 120),\n",
    "            # nn.LayerNorm(120),\n",
    "            nn.ReLU(),\n",
    "            nn.Linear(120, 84),\n",
    "            # nn.LayerNorm(84),\n",
    "            nn.Tanh(),\n",
    "        )\n",
    "        self.last_layer = nn.Linear(84, action_shape)\n",
    "\n",
    "    def forward(self, x):\n",
    "        assert len(x.shape) >= 3, \"only support magent input observation\"\n",
    "        x = self.cnn(x)\n",
    "        if len(x.shape) == 3:\n",
    "            batchsize = 1\n",
    "        else:\n",
    "            batchsize = x.shape[0]\n",
    "        x = x.reshape(batchsize, -1)\n",
    "        x = self.network(x)\n",
    "        self.last_latent = x\n",
    "        return self.last_layer(x)"
   ]
  },
  {
   "cell_type": "code",
   "execution_count": 5,
   "metadata": {
    "execution": {
     "iopub.execute_input": "2024-12-21T15:54:41.677226Z",
     "iopub.status.busy": "2024-12-21T15:54:41.676893Z",
     "iopub.status.idle": "2024-12-21T15:54:41.696073Z",
     "shell.execute_reply": "2024-12-21T15:54:41.695141Z",
     "shell.execute_reply.started": "2024-12-21T15:54:41.677193Z"
    },
    "trusted": true
   },
   "outputs": [],
   "source": [
    "class TestQAgent: \n",
    "\n",
    "    def __init__(self, n_observation, n_actions, model_path: str): \n",
    "        self.qnetwork = PretrainedQNetwork(n_observation, n_actions)\n",
    "        self.n_action = n_actions\n",
    "        self.qnetwork.load_state_dict(\n",
    "            torch.load(model_path, weights_only=True, map_location=\"cpu\")\n",
    "        ) \n",
    "\n",
    "    def get_action(self, observation):\n",
    "\n",
    "        if np.random.rand() < 0.05:\n",
    "            return np.random.randint(self.n_action)\n",
    "        else:\n",
    "            observation = (\n",
    "                        torch.Tensor(observation).float().permute([2, 0, 1]).unsqueeze(0)\n",
    "                    )\n",
    "            with torch.no_grad():\n",
    "                q_values = self.qnetwork(observation)\n",
    "                action = torch.argmax(q_values, dim=1).numpy()[0]\n",
    "\n",
    "        return action\n"
   ]
  },
  {
   "cell_type": "code",
   "execution_count": 6,
   "metadata": {
    "execution": {
     "iopub.execute_input": "2024-12-21T15:54:41.697551Z",
     "iopub.status.busy": "2024-12-21T15:54:41.697041Z",
     "iopub.status.idle": "2024-12-21T15:54:41.716462Z",
     "shell.execute_reply": "2024-12-21T15:54:41.715421Z",
     "shell.execute_reply.started": "2024-12-21T15:54:41.697503Z"
    },
    "trusted": true
   },
   "outputs": [],
   "source": [
    "from tqdm import tqdm\n",
    "\n",
    "def eval(model_path : str):\n",
    "    max_cycles = 300\n",
    "    env = battle_v4.env(map_size=45, max_cycles=max_cycles)\n",
    "    device = \"cuda\" if torch.cuda.is_available() else \"cpu\"\n",
    "\n",
    "    def random_policy(env, agent, obs):\n",
    "        return env.action_space(agent).sample()\n",
    "    \n",
    "    \n",
    "    q_network = PretrainedQNetwork(\n",
    "        env.observation_space(\"red_0\").shape, env.action_space(\"red_0\").n\n",
    "    )\n",
    "    q_network.load_state_dict(\n",
    "        torch.load(\"/kaggle/input/pretrained/pytorch/default/1/red.pt\", weights_only=True, map_location=\"cpu\")\n",
    "    )\n",
    "    q_network.to(device)\n",
    "\n",
    "    final_q_network = Final_QNets(\n",
    "        env.observation_space(\"red_0\").shape, env.action_space(\"red_0\").n\n",
    "    )\n",
    "    final_q_network.load_state_dict(\n",
    "        torch.load(\"/kaggle/input/final_rl/pytorch/default/1/red_final.pt\", weights_only=True, map_location=\"cpu\")\n",
    "    )\n",
    "    final_q_network.to(device)\n",
    "\n",
    "    def my_policy(env, agent, obs):\n",
    "        my_agent = TestQAgent(env.observation_space(\"red_0\").shape,  env.action_space(\"red_0\").n, model_path= model_path)\n",
    "        return my_agent.get_action(obs)\n",
    "\n",
    "\n",
    "    def pretrain_policy(env, agent, obs):\n",
    "        observation = (\n",
    "            torch.Tensor(obs).float().permute([2, 0, 1]).unsqueeze(0).to(device)\n",
    "        )\n",
    "        with torch.no_grad():\n",
    "            q_values = q_network(observation)\n",
    "        return torch.argmax(q_values, dim=1).cpu().numpy()[0]\n",
    "\n",
    "    def final_pretrain_policy(env, agent, obs):\n",
    "        observation = (\n",
    "            torch.Tensor(obs).float().permute([2, 0, 1]).unsqueeze(0).to(device)\n",
    "        )\n",
    "        with torch.no_grad():\n",
    "            q_values = final_q_network(observation)\n",
    "        return torch.argmax(q_values, dim=1).cpu().numpy()[0]\n",
    "\n",
    "    def run_eval(env, red_policy, blue_policy, n_episode: int = 100):\n",
    "        red_win, blue_win = [], []\n",
    "        red_tot_rw, blue_tot_rw = [], []\n",
    "        n_agent_each_team = len(env.env.action_spaces) // 2\n",
    "        blue_agents = []\n",
    "        red_agents = []\n",
    "\n",
    "        for _ in tqdm(range(n_episode)):\n",
    "            env.reset()\n",
    "            n_kill = {\"red\": 0, \"blue\": 0}\n",
    "            red_reward, blue_reward = 0, 0\n",
    "\n",
    "            for agent in env.agent_iter():\n",
    "                observation, reward, termination, truncation, info = env.last()\n",
    "                agent_team = agent.split(\"_\")[0]\n",
    "\n",
    "                n_kill[agent_team] += (\n",
    "                    reward > 4.5\n",
    "                )  \n",
    "                if agent_team == \"red\":\n",
    "                    red_reward += reward\n",
    "                else:\n",
    "                    blue_reward += reward\n",
    "\n",
    "                if termination or truncation:\n",
    "                    action = None  \n",
    "                else:\n",
    "                    if agent_team == \"red\":\n",
    "                        action = red_policy(env, agent, observation)\n",
    "                    else:\n",
    "                        action = blue_policy(env, agent, observation)\n",
    "\n",
    "                env.step(action)\n",
    "\n",
    "            who_wins = \"red\" if n_kill[\"red\"] >= n_kill[\"blue\"] + 5 else \"draw\"\n",
    "            who_wins = \"blue\" if n_kill[\"red\"] + 5 <= n_kill[\"blue\"] else who_wins\n",
    "            red_win.append(who_wins == \"red\")\n",
    "            blue_win.append(who_wins == \"blue\")\n",
    "\n",
    "            blue_agents.append(n_kill[\"blue\"])\n",
    "            red_agents.append(n_kill[\"red\"])\n",
    "\n",
    "            red_tot_rw.append(red_reward / n_agent_each_team)\n",
    "            blue_tot_rw.append(blue_reward / n_agent_each_team)\n",
    "\n",
    "        return {\n",
    "            \"winrate_red\": np.mean(red_win),\n",
    "            \"winrate_blue\": np.mean(blue_win),\n",
    "            \"average_rewards_red\": np.mean(red_tot_rw),\n",
    "            \"average_rewards_blue\": np.mean(blue_tot_rw),\n",
    "            \"red_kill\": np.mean(red_agents) / n_agent_each_team,\n",
    "            \"blue_kill\": np.mean(blue_agents) / n_agent_each_team,\n",
    "        }\n",
    "\n",
    "    print(\"=\" * 20)\n",
    "    print(\"Eval with random policy\")\n",
    "    print(\n",
    "        run_eval(\n",
    "            env=env, red_policy=random_policy, blue_policy=my_policy, n_episode=5\n",
    "        )\n",
    "    )\n",
    "    print(\"=\" * 20)\n",
    "\n",
    "    print(\"Eval with trained policy\")\n",
    "    print(\n",
    "        run_eval(\n",
    "            env=env, red_policy=pretrain_policy, blue_policy=my_policy, n_episode=5\n",
    "        )\n",
    "    )\n",
    "    print(\"=\" * 20)\n",
    "\n",
    "    print(\"Eval with final trained policy\")\n",
    "    print(\n",
    "        run_eval(\n",
    "            env=env,\n",
    "            red_policy=final_pretrain_policy,\n",
    "            blue_policy=my_policy,\n",
    "            n_episode=5,\n",
    "        )\n",
    "    )\n",
    "    print(\"=\" * 20)"
   ]
  },
  {
   "cell_type": "code",
   "execution_count": 7,
   "metadata": {
    "execution": {
     "iopub.execute_input": "2024-12-21T15:54:41.717769Z",
     "iopub.status.busy": "2024-12-21T15:54:41.717408Z",
     "iopub.status.idle": "2024-12-21T16:01:22.557146Z",
     "shell.execute_reply": "2024-12-21T16:01:22.556257Z",
     "shell.execute_reply.started": "2024-12-21T15:54:41.717731Z"
    },
    "trusted": true
   },
   "outputs": [
    {
     "name": "stderr",
     "output_type": "stream",
     "text": [
      "/usr/local/lib/python3.10/dist-packages/pettingzoo/utils/wrappers/base.py:72: UserWarning: The `action_spaces` dictionary is deprecated. Use the `action_space` function instead.\n",
      "  warnings.warn(\n"
     ]
    },
    {
     "name": "stdout",
     "output_type": "stream",
     "text": [
      "====================\n",
      "Eval with random policy\n"
     ]
    },
    {
     "name": "stderr",
     "output_type": "stream",
     "text": [
      "100%|██████████| 5/5 [02:40<00:00, 32.12s/it]\n"
     ]
    },
    {
     "name": "stdout",
     "output_type": "stream",
     "text": [
      "{'winrate_red': 0.0, 'winrate_blue': 1.0, 'average_rewards_red': -1.155246953903065, 'average_rewards_blue': 4.63825922574572, 'red_kill': 0.0, 'blue_kill': 1.0}\n",
      "====================\n",
      "Eval with trained policy\n"
     ]
    },
    {
     "name": "stderr",
     "output_type": "stream",
     "text": [
      "100%|██████████| 5/5 [01:46<00:00, 21.22s/it]\n"
     ]
    },
    {
     "name": "stdout",
     "output_type": "stream",
     "text": [
      "{'winrate_red': 0.0, 'winrate_blue': 1.0, 'average_rewards_red': -0.0058148162462461125, 'average_rewards_blue': 4.857901201187921, 'red_kill': 0.03209876543209877, 'blue_kill': 1.0}\n",
      "====================\n",
      "Eval with final trained policy\n"
     ]
    },
    {
     "name": "stderr",
     "output_type": "stream",
     "text": [
      "100%|██████████| 5/5 [02:13<00:00, 26.73s/it]"
     ]
    },
    {
     "name": "stdout",
     "output_type": "stream",
     "text": [
      "{'winrate_red': 0.0, 'winrate_blue': 1.0, 'average_rewards_red': 2.206259242019811, 'average_rewards_blue': 4.754888859198049, 'red_kill': 0.48395061728395067, 'blue_kill': 0.9851851851851852}\n",
      "====================\n"
     ]
    },
    {
     "name": "stderr",
     "output_type": "stream",
     "text": [
      "\n"
     ]
    }
   ],
   "source": [
    "eval(\"/kaggle/input/my_model/pytorch/default/1/my_random5.pt\")"
   ]
  }
 ],
 "metadata": {
  "kaggle": {
   "accelerator": "gpu",
   "dataSources": [
    {
     "isSourceIdPinned": true,
     "modelId": 186056,
     "modelInstanceId": 163700,
     "sourceId": 192015,
     "sourceType": "modelInstanceVersion"
    },
    {
     "isSourceIdPinned": true,
     "modelId": 197895,
     "modelInstanceId": 175544,
     "sourceId": 205825,
     "sourceType": "modelInstanceVersion"
    },
    {
     "isSourceIdPinned": true,
     "modelId": 192823,
     "modelInstanceId": 170510,
     "sourceId": 199886,
     "sourceType": "modelInstanceVersion"
    }
   ],
   "dockerImageVersionId": 30823,
   "isGpuEnabled": true,
   "isInternetEnabled": true,
   "language": "python",
   "sourceType": "notebook"
  },
  "kernelspec": {
   "display_name": "rl_env",
   "language": "python",
   "name": "python3"
  },
  "language_info": {
   "codemirror_mode": {
    "name": "ipython",
    "version": 3
   },
   "file_extension": ".py",
   "mimetype": "text/x-python",
   "name": "python",
   "nbconvert_exporter": "python",
   "pygments_lexer": "ipython3",
   "version": "3.10.0"
  }
 },
 "nbformat": 4,
 "nbformat_minor": 4
}
